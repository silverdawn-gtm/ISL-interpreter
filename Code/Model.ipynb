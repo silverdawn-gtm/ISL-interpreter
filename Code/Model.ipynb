{
  "nbformat": 4,
  "nbformat_minor": 0,
  "metadata": {
    "colab": {
      "provenance": []
    },
    "kernelspec": {
      "name": "python3",
      "display_name": "Python 3"
    },
    "language_info": {
      "name": "python"
    }
  },
  "cells": [
    {
      "cell_type": "code",
      "source": [
        "!pip install mediapipe"
      ],
      "metadata": {
        "colab": {
          "base_uri": "https://localhost:8080/"
        },
        "id": "scybhCN7YOxi",
        "outputId": "d189e32e-7f4c-4797-abbc-7ab066f680f9"
      },
      "execution_count": 23,
      "outputs": [
        {
          "output_type": "stream",
          "name": "stdout",
          "text": [
            "Requirement already satisfied: mediapipe in /usr/local/lib/python3.11/dist-packages (0.10.21)\n",
            "Requirement already satisfied: absl-py in /usr/local/lib/python3.11/dist-packages (from mediapipe) (1.4.0)\n",
            "Requirement already satisfied: attrs>=19.1.0 in /usr/local/lib/python3.11/dist-packages (from mediapipe) (25.1.0)\n",
            "Requirement already satisfied: flatbuffers>=2.0 in /usr/local/lib/python3.11/dist-packages (from mediapipe) (25.2.10)\n",
            "Requirement already satisfied: jax in /usr/local/lib/python3.11/dist-packages (from mediapipe) (0.4.33)\n",
            "Requirement already satisfied: jaxlib in /usr/local/lib/python3.11/dist-packages (from mediapipe) (0.4.33)\n",
            "Requirement already satisfied: matplotlib in /usr/local/lib/python3.11/dist-packages (from mediapipe) (3.10.0)\n",
            "Requirement already satisfied: numpy<2 in /usr/local/lib/python3.11/dist-packages (from mediapipe) (1.26.4)\n",
            "Requirement already satisfied: opencv-contrib-python in /usr/local/lib/python3.11/dist-packages (from mediapipe) (4.11.0.86)\n",
            "Requirement already satisfied: protobuf<5,>=4.25.3 in /usr/local/lib/python3.11/dist-packages (from mediapipe) (4.25.6)\n",
            "Requirement already satisfied: sounddevice>=0.4.4 in /usr/local/lib/python3.11/dist-packages (from mediapipe) (0.5.1)\n",
            "Requirement already satisfied: sentencepiece in /usr/local/lib/python3.11/dist-packages (from mediapipe) (0.2.0)\n",
            "Requirement already satisfied: CFFI>=1.0 in /usr/local/lib/python3.11/dist-packages (from sounddevice>=0.4.4->mediapipe) (1.17.1)\n",
            "Requirement already satisfied: ml-dtypes>=0.2.0 in /usr/local/lib/python3.11/dist-packages (from jax->mediapipe) (0.4.1)\n",
            "Requirement already satisfied: opt-einsum in /usr/local/lib/python3.11/dist-packages (from jax->mediapipe) (3.4.0)\n",
            "Requirement already satisfied: scipy>=1.10 in /usr/local/lib/python3.11/dist-packages (from jax->mediapipe) (1.13.1)\n",
            "Requirement already satisfied: contourpy>=1.0.1 in /usr/local/lib/python3.11/dist-packages (from matplotlib->mediapipe) (1.3.1)\n",
            "Requirement already satisfied: cycler>=0.10 in /usr/local/lib/python3.11/dist-packages (from matplotlib->mediapipe) (0.12.1)\n",
            "Requirement already satisfied: fonttools>=4.22.0 in /usr/local/lib/python3.11/dist-packages (from matplotlib->mediapipe) (4.56.0)\n",
            "Requirement already satisfied: kiwisolver>=1.3.1 in /usr/local/lib/python3.11/dist-packages (from matplotlib->mediapipe) (1.4.8)\n",
            "Requirement already satisfied: packaging>=20.0 in /usr/local/lib/python3.11/dist-packages (from matplotlib->mediapipe) (24.2)\n",
            "Requirement already satisfied: pillow>=8 in /usr/local/lib/python3.11/dist-packages (from matplotlib->mediapipe) (11.1.0)\n",
            "Requirement already satisfied: pyparsing>=2.3.1 in /usr/local/lib/python3.11/dist-packages (from matplotlib->mediapipe) (3.2.1)\n",
            "Requirement already satisfied: python-dateutil>=2.7 in /usr/local/lib/python3.11/dist-packages (from matplotlib->mediapipe) (2.8.2)\n",
            "Requirement already satisfied: pycparser in /usr/local/lib/python3.11/dist-packages (from CFFI>=1.0->sounddevice>=0.4.4->mediapipe) (2.22)\n",
            "Requirement already satisfied: six>=1.5 in /usr/local/lib/python3.11/dist-packages (from python-dateutil>=2.7->matplotlib->mediapipe) (1.17.0)\n"
          ]
        }
      ]
    },
    {
      "cell_type": "code",
      "source": [
        "import os\n",
        "import cv2\n",
        "import numpy as np\n",
        "import tensorflow as tf\n",
        "from sklearn.preprocessing import LabelEncoder\n",
        "import pickle\n",
        "\n",
        "# Load the saved model\n",
        "model = tf.keras.models.load_model('/content/drive/MyDrive/ISL_Recognition/vit_model.h5')\n",
        "\n",
        "load_path = \"/content/drive/MyDrive/ISL_Recognition/label_encoder.pkl\"\n",
        "with open(load_path, 'rb') as f:\n",
        "    label_encoder = pickle.load(f)\n",
        "\n",
        "# Initialize MediaPipe Hands\n",
        "import mediapipe as mp\n",
        "mp_hands = mp.solutions.hands\n",
        "hands = mp_hands.Hands(static_image_mode=True, max_num_hands=2, min_detection_confidence=0.7)\n",
        "\n",
        "def adjust_gamma(image, gamma=1.5):\n",
        "    \"\"\"Adjust gamma of an image.\"\"\"\n",
        "    inv_gamma = 1.0 / gamma\n",
        "    table = np.array([(i / 255.0) ** inv_gamma * 255 for i in range(256)]).astype(\"uint8\")\n",
        "    return cv2.LUT(image, table)\n",
        "\n",
        "def extract_hand_landmarks(image):\n",
        "    \"\"\"\n",
        "    Extracts 21 hand landmarks (x, y, z) from an image using MediaPipe Hands.\n",
        "\n",
        "    Returns:\n",
        "        - (63,) NumPy array if hand is detected\n",
        "        - Zero-filled (63,) array if no hand is detected\n",
        "    \"\"\"\n",
        "    image_rgb = cv2.cvtColor(image, cv2.COLOR_BGR2RGB)  # Convert to RGB\n",
        "    image_rgb = adjust_gamma(image_rgb, gamma=1.5)  # Apply gamma correction\n",
        "    results = hands.process(image_rgb)\n",
        "\n",
        "    if results.multi_hand_landmarks:\n",
        "        landmarks = results.multi_hand_landmarks[0]\n",
        "        landmarks_array = np.array([[lm.x, lm.y, lm.z] for lm in landmarks.landmark]).flatten()  # (63,)\n",
        "    else:\n",
        "        landmarks_array = np.zeros((21, 3)).flatten()  # (63,)\n",
        "\n",
        "    return landmarks_array\n",
        "\n",
        "def preprocess_image(image_path):\n",
        "    \"\"\"\n",
        "    Preprocess an image for classification:\n",
        "    - Load the image.\n",
        "    - Extract hand landmarks.\n",
        "    - Reshape and normalize the landmarks.\n",
        "    \"\"\"\\\n",
        "\n",
        "    # Load the image\n",
        "    image = cv2.imread(image_path)\n",
        "    if image is None:\n",
        "        raise ValueError(f\"Error: Unable to load image at {image_path}\")\n",
        "\n",
        "    # Extract hand landmarks\n",
        "    landmarks = extract_hand_landmarks(image)\n",
        "\n",
        "    # Reshape landmarks to match model input shape (21, 3)\n",
        "    landmarks = landmarks.reshape(21, 3)\n",
        "\n",
        "    # Normalize landmarks (if required)\n",
        "    # landmarks = (landmarks - np.mean(landmarks, axis=0)) / np.std(landmarks, axis=0)\n",
        "\n",
        "    # Add batch dimension\n",
        "    landmarks = np.expand_dims(landmarks, axis=0)\n",
        "\n",
        "    return landmarks\n",
        "\n",
        "def classify_image(image_path):\n",
        "    \"\"\"\n",
        "    Classify an image using the loaded model.\n",
        "    \"\"\"\n",
        "\n",
        "    # Preprocess the image\n",
        "    input_data = preprocess_image(image_path)\n",
        "\n",
        "    # Make prediction\n",
        "    predictions = model.predict(input_data)\n",
        "\n",
        "    # Get the predicted class\n",
        "    predicted_class_index = np.argmax(predictions, axis=1)[0]\n",
        "    predicted_class = label_encoder.inverse_transform([predicted_class_index])[0]\n",
        "\n",
        "    # Get prediction probabilities\n",
        "    prediction_probabilities = predictions[0]\n",
        "\n",
        "    print(f\"Predicted Class Index: {predicted_class_index}\")\n",
        "    print(f\"Predicted Class: {predicted_class}\")\n",
        "    print(f\"Prediction Probabilities: {prediction_probabilities}\\n\")\n",
        "\n",
        "    return predicted_class, prediction_probabilities\n",
        "\n",
        "# Example usage\n",
        "image_path = \"/content/drive/MyDrive/Miniproject (1)/Indian/Q/100.jpg\"\n",
        "predicted_class, probabilities = classify_image(image_path)"
      ],
      "metadata": {
        "colab": {
          "base_uri": "https://localhost:8080/"
        },
        "id": "ceJ57tN0lEWX",
        "outputId": "4236a2cb-b397-4277-b31b-3531e1332057"
      },
      "execution_count": 25,
      "outputs": [
        {
          "output_type": "stream",
          "name": "stderr",
          "text": [
            "WARNING:absl:Compiled the loaded model, but the compiled metrics have yet to be built. `model.compile_metrics` will be empty until you train or evaluate the model.\n"
          ]
        },
        {
          "output_type": "stream",
          "name": "stdout",
          "text": [
            "\u001b[1m1/1\u001b[0m \u001b[32m━━━━━━━━━━━━━━━━━━━━\u001b[0m\u001b[37m\u001b[0m \u001b[1m1s\u001b[0m 951ms/step\n",
            "Predicted Class Index: 25\n",
            "Predicted Class: Q\n",
            "Prediction Probabilities: [1.7845479e-05 3.2689441e-05 7.2164206e-05 7.9702033e-05 3.2041033e-05\n",
            " 1.6825830e-05 4.7097761e-05 9.8852703e-05 1.1676957e-04 1.4563779e-04\n",
            " 1.4685567e-01 1.9533221e-01 1.4764309e-04 1.2877966e-04 2.8924584e-05\n",
            " 1.5920405e-04 2.6707316e-04 1.4552276e-04 2.2185413e-05 1.2089150e-04\n",
            " 3.7551326e-05 5.0510116e-05 2.1681824e-05 1.3327636e-01 4.4199402e-04\n",
            " 3.8297516e-01 6.9663693e-05 6.3012175e-02 7.2697883e-05 5.8515139e-05\n",
            " 7.5597987e-02 8.5203073e-06 1.2399864e-04 1.8993372e-04 1.9544167e-04]\n",
            "\n"
          ]
        }
      ]
    }
  ]
}